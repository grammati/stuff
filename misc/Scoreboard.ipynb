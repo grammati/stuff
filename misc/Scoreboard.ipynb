{
 "cells": [
  {
   "cell_type": "code",
   "execution_count": null,
   "metadata": {},
   "outputs": [],
   "source": [
    "import requests\n",
    "import os\n",
    "\n",
    "WORDLIST_URL = 'https://raw.githubusercontent.com/first20hours/google-10000-english/master/google-10000-english-no-swears.txt'\n",
    "WORDLIST_LOCAL_PATH = './wordlist'\n",
    "\n",
    "def download_words():\n",
    "    wordlist = requests.get(WORDLIST_URL).content\n",
    "    open(WORDLIST_LOCAL_PATH, 'wb').write(wordlist)\n",
    "    \n",
    "def load_words():\n",
    "    if not os.path.exists(WORDLIST_LOCAL_PATH):\n",
    "        dowload_words()\n",
    "    return [line for line in map(str.strip, open(WORDLIST_LOCAL_PATH)) if line]"
   ]
  },
  {
   "cell_type": "code",
   "execution_count": null,
   "metadata": {},
   "outputs": [],
   "source": [
    "words = load_words()"
   ]
  },
  {
   "cell_type": "code",
   "execution_count": null,
   "metadata": {},
   "outputs": [],
   "source": [
    "len(words)"
   ]
  },
  {
   "cell_type": "code",
   "execution_count": null,
   "metadata": {},
   "outputs": [],
   "source": [
    "wordset = set(words)"
   ]
  },
  {
   "cell_type": "code",
   "execution_count": null,
   "metadata": {},
   "outputs": [],
   "source": []
  },
  {
   "cell_type": "code",
   "execution_count": null,
   "metadata": {},
   "outputs": [],
   "source": [
    "def is_word(word):\n",
    "    return word in wordset"
   ]
  },
  {
   "cell_type": "code",
   "execution_count": null,
   "metadata": {},
   "outputs": [],
   "source": [
    "is_word('potato'), is_word('kldjffffs')"
   ]
  },
  {
   "cell_type": "code",
   "execution_count": null,
   "metadata": {},
   "outputs": [],
   "source": [
    "def charsets(word):\n",
    "    if len(word) == 1:\n",
    "        yield word\n",
    "    else:\n",
    "        c = word[0]\n",
    "        yield c\n",
    "        for cs in charsets(word[1:]):\n",
    "            yield c + cs\n",
    "        for cs in charsets(word[1:]):\n",
    "            yield cs"
   ]
  },
  {
   "cell_type": "code",
   "execution_count": null,
   "metadata": {},
   "outputs": [],
   "source": [
    "def swapped(word, i, j):\n",
    "    return word[:i] + word[j] + word[i+1:j] + word[i] + word[j+1:]\n",
    "\n",
    "def permutations(word):\n",
    "    yield word\n",
    "    for i in range(0, len(word)-1):\n",
    "        for j in range(i+1, len(word)):\n",
    "            yield swapped(word, i, j)\n",
    "\n",
    "def candidates(word):\n",
    "    for chars in charsets(word):\n",
    "        for perm in permutations(chars):\n",
    "            yield perm"
   ]
  },
  {
   "cell_type": "code",
   "execution_count": null,
   "metadata": {},
   "outputs": [],
   "source": [
    "def embedded_words(word):\n",
    "    for cand in candidates(word):\n",
    "        if is_word(cand):\n",
    "            yield cand"
   ]
  },
  {
   "cell_type": "code",
   "execution_count": null,
   "metadata": {},
   "outputs": [],
   "source": [
    "len(set(candidates('scoreboard')))"
   ]
  },
  {
   "cell_type": "code",
   "execution_count": null,
   "metadata": {},
   "outputs": [],
   "source": [
    "def timeit(f):\n",
    "    import time\n",
    "    start = time.clock()\n",
    "    res = f()\n",
    "    return res, time.clock() - start"
   ]
  },
  {
   "cell_type": "code",
   "execution_count": null,
   "metadata": {},
   "outputs": [],
   "source": [
    "for i in range(1,18):\n",
    "    n, t = timeit(lambda: len(list(embedded_words('abcdefghijklmnopqrstuvwxyz'[:i]))))\n",
    "    print(i, n, t)\n"
   ]
  },
  {
   "cell_type": "code",
   "execution_count": null,
   "metadata": {},
   "outputs": [],
   "source": [
    "# part 2 - build a trie\n",
    "def add_to_trie(word: str, trie: dict):\n",
    "    if not word:\n",
    "        trie[None] = True\n",
    "        return\n",
    "    c = word[0]\n",
    "    rest_of_word = word[1:]\n",
    "    add_to_trie(rest_of_word, trie.setdefault(c, {}))\n",
    "        \n",
    "def build_trie(words):\n",
    "    trie = {}\n",
    "    for word in words:\n",
    "        add_to_trie(word, trie)\n",
    "    return trie\n",
    "\n",
    "def is_word(trie, word):\n",
    "    if not word:\n",
    "        return None in trie\n",
    "    c, rest = word[0], word[1:]\n",
    "    return c in trie and is_word(trie[c], rest)"
   ]
  },
  {
   "cell_type": "code",
   "execution_count": null,
   "metadata": {},
   "outputs": [],
   "source": [
    "dictionary = build_trie(words)"
   ]
  },
  {
   "cell_type": "code",
   "execution_count": null,
   "metadata": {},
   "outputs": [],
   "source": [
    "is_word(dictionary, 'potato'), is_word(dictionary, 'kjosdffj')"
   ]
  },
  {
   "cell_type": "code",
   "execution_count": null,
   "metadata": {},
   "outputs": [],
   "source": [
    "from collections import Counter\n",
    "\n",
    "def walk_trie(path, trie, counts):\n",
    "    for c in trie:\n",
    "        if c is None:\n",
    "            yield path\n",
    "        if counts[c]:\n",
    "            counts[c] -= 1\n",
    "            yield from walk_trie(path + c, trie[c], counts)\n",
    "            counts[c] += 1\n",
    "            \n",
    "def embedded_words(trie, word):\n",
    "    return walk_trie('', trie, Counter(word))"
   ]
  },
  {
   "cell_type": "code",
   "execution_count": null,
   "metadata": {},
   "outputs": [],
   "source": [
    "list(embedded_words(dictionary, 'cats'))"
   ]
  },
  {
   "cell_type": "code",
   "execution_count": null,
   "metadata": {},
   "outputs": [],
   "source": [
    "for i in range(1,18):\n",
    "    n, t = timeit(lambda: len(list(embedded_words(dictionary, 'abcdefghijklmnopqrstuvwxyz'[:i]))))\n",
    "    print(i, n, t)\n"
   ]
  },
  {
   "cell_type": "code",
   "execution_count": null,
   "metadata": {},
   "outputs": [],
   "source": []
  }
 ],
 "metadata": {
  "kernelspec": {
   "display_name": "Python 3",
   "language": "python",
   "name": "python3"
  },
  "language_info": {
   "codemirror_mode": {
    "name": "ipython",
    "version": 3
   },
   "file_extension": ".py",
   "mimetype": "text/x-python",
   "name": "python",
   "nbconvert_exporter": "python",
   "pygments_lexer": "ipython3",
   "version": "3.6.3"
  }
 },
 "nbformat": 4,
 "nbformat_minor": 2
}
