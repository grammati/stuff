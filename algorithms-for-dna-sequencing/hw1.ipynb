{
 "cells": [
  {
   "cell_type": "code",
   "execution_count": null,
   "metadata": {},
   "outputs": [],
   "source": [
    "genome = ''.join(line.strip() for line in open('lambda_virus.fa') if not line.startswith('>'))\n",
    "print len(genome)"
   ]
  },
  {
   "cell_type": "code",
   "execution_count": null,
   "metadata": {},
   "outputs": [],
   "source": [
    "import collections\n",
    "collections.Counter(genome)"
   ]
  },
  {
   "cell_type": "code",
   "execution_count": null,
   "metadata": {},
   "outputs": [],
   "source": [
    "def reverseComplement(seq):\n",
    "    return ''.join({'A':'T','C':'G','G':'C','T':'A','N':'N'}[c] for c in seq[::-1])"
   ]
  },
  {
   "cell_type": "code",
   "execution_count": null,
   "metadata": {},
   "outputs": [],
   "source": [
    "def isMatchAt(genome, fragment, offset, maxMismatches = 0):\n",
    "    misMatches = []\n",
    "    for i in range(len(fragment)):\n",
    "        if genome[offset + i] != fragment[i]:\n",
    "            misMatches.append(i)\n",
    "            if len(misMatches) > maxMismatches:\n",
    "                break\n",
    "    return len(misMatches) <= maxMismatches\n",
    "\n",
    "def getMatches(genome, fragment, maxMismatches):\n",
    "    matches = []\n",
    "    for i in range(len(genome) - len(fragment) + 1):\n",
    "        misMatches = getMismatches(genome, fragment, offset)\n",
    "        if isMatchAt(genome, fragment, i, maxMismatches):\n",
    "            matches.append(i)\n",
    "    return matches\n",
    "\n",
    "def getAllMatches(genome, fragment, maxMismatches = 0):\n",
    "    matches = getMatches(genome, fragment, maxMismatches)\n",
    "    rc = reverseComplement(fragment)\n",
    "    rcMatches = getMatches(genome, rc, maxMismatches) if rc != fragment else []\n",
    "    return matches, rcMatches"
   ]
  },
  {
   "cell_type": "code",
   "execution_count": null,
   "metadata": {},
   "outputs": [],
   "source": [
    "genome[36382:36382+4]"
   ]
  },
  {
   "cell_type": "code",
   "execution_count": null,
   "metadata": {},
   "outputs": [],
   "source": [
    "map(len, getAllMatches(genome,'AGGT'))"
   ]
  },
  {
   "cell_type": "code",
   "execution_count": null,
   "metadata": {},
   "outputs": [],
   "source": [
    "map(len, getAllMatches(genome,'TTAA'))"
   ]
  },
  {
   "cell_type": "code",
   "execution_count": null,
   "metadata": {},
   "outputs": [],
   "source": [
    "reverseComplement('TTAA')"
   ]
  },
  {
   "cell_type": "code",
   "execution_count": null,
   "metadata": {},
   "outputs": [],
   "source": [
    "print getAllMatches(genome, 'ACTAAGT')"
   ]
  },
  {
   "cell_type": "code",
   "execution_count": null,
   "metadata": {},
   "outputs": [],
   "source": [
    "print getAllMatches(genome, 'AGTCGA', 0)"
   ]
  },
  {
   "cell_type": "code",
   "execution_count": null,
   "metadata": {},
   "outputs": [],
   "source": [
    "print getAllMatches('ACTTACTTGATAAAGT', 'ACTTTA', 2)"
   ]
  },
  {
   "cell_type": "code",
   "execution_count": null,
   "metadata": {},
   "outputs": [],
   "source": [
    "print len(getAllMatches(genome, 'TTCAAGCC', 2)[0])"
   ]
  },
  {
   "cell_type": "code",
   "execution_count": null,
   "metadata": {},
   "outputs": [],
   "source": [
    "print getAllMatches(genome, 'AGGAGGTT', 2)[0]"
   ]
  },
  {
   "cell_type": "code",
   "execution_count": null,
   "metadata": {},
   "outputs": [],
   "source": [
    "def charToQual(c):\n",
    "    return ord(c) - 33\n",
    "\n",
    "def loadFastq(filename):\n",
    "    reads = []\n",
    "    quals = []\n",
    "    with open(filename) as f:\n",
    "        while True:\n",
    "            id_line = f.readline().rstrip()\n",
    "            if not id_line:\n",
    "                break\n",
    "            assert id_line.startswith('@')\n",
    "            reads.append(f.readline().rstrip())\n",
    "            assert f.readline().rstrip() == '+'\n",
    "            quals.append(map(charToQual, f.readline().rstrip()))\n",
    "            assert len(reads[-1]) == len(quals[-1])\n",
    "    return reads, quals"
   ]
  },
  {
   "cell_type": "code",
   "execution_count": null,
   "metadata": {},
   "outputs": [],
   "source": [
    "r,q = loadFastq('ERR037900_1.first1000.fastq')"
   ]
  },
  {
   "cell_type": "code",
   "execution_count": null,
   "metadata": {},
   "outputs": [],
   "source": [
    "len(r)"
   ]
  },
  {
   "cell_type": "code",
   "execution_count": null,
   "metadata": {},
   "outputs": [],
   "source": [
    "print q[0]"
   ]
  },
  {
   "cell_type": "code",
   "execution_count": null,
   "metadata": {},
   "outputs": [],
   "source": [
    "import numpy as n"
   ]
  },
  {
   "cell_type": "code",
   "execution_count": null,
   "metadata": {},
   "outputs": [],
   "source": [
    "q = n.array(q)"
   ]
  },
  {
   "cell_type": "code",
   "execution_count": null,
   "metadata": {},
   "outputs": [],
   "source": [
    "import matplotlib.pyplot as plt"
   ]
  },
  {
   "cell_type": "code",
   "execution_count": null,
   "metadata": {},
   "outputs": [],
   "source": [
    "plt.plot(q.sum(0))"
   ]
  },
  {
   "cell_type": "code",
   "execution_count": null,
   "metadata": {},
   "outputs": [],
   "source": [
    "plt.plot(q.std(0))"
   ]
  },
  {
   "cell_type": "code",
   "execution_count": null,
   "metadata": {},
   "outputs": [],
   "source": [
    "q.sum(0).argmin()"
   ]
  },
  {
   "cell_type": "code",
   "execution_count": null,
   "metadata": {},
   "outputs": [],
   "source": [
    "q.sum(0)[62:72]"
   ]
  },
  {
   "cell_type": "markdown",
   "metadata": {},
   "source": [
    "There is a clearly lower quality value at index 66.\n",
    "\n",
    "I'm going to do another analysis now, by seeing which indices in the reads most frequently cause a mismatch."
   ]
  },
  {
   "cell_type": "code",
   "execution_count": null,
   "metadata": {},
   "outputs": [],
   "source": [
    "x=set()"
   ]
  },
  {
   "cell_type": "code",
   "execution_count": null,
   "metadata": {},
   "outputs": [],
   "source": [
    "x.update([1,2,3])"
   ]
  },
  {
   "cell_type": "code",
   "execution_count": null,
   "metadata": {},
   "outputs": [],
   "source": [
    "x"
   ]
  },
  {
   "cell_type": "code",
   "execution_count": null,
   "metadata": {},
   "outputs": [],
   "source": []
  }
 ],
 "metadata": {
  "kernelspec": {
   "display_name": "Python 2",
   "language": "python",
   "name": "python2"
  },
  "language_info": {
   "codemirror_mode": {
    "name": "ipython",
    "version": 2
   },
   "file_extension": ".py",
   "mimetype": "text/x-python",
   "name": "python",
   "nbconvert_exporter": "python",
   "pygments_lexer": "ipython2",
   "version": "2.7.11"
  }
 },
 "nbformat": 4,
 "nbformat_minor": 0
}
