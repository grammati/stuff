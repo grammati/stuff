{
 "cells": [
  {
   "cell_type": "code",
   "execution_count": 229,
   "metadata": {
    "collapsed": true
   },
   "outputs": [],
   "source": [
    "def overlap(a, b, min_length=3):\n",
    "    \"\"\" Return length of longest suffix of 'a' matching\n",
    "        a prefix of 'b' that is at least 'min_length'\n",
    "        characters long.  If no such overlap exists,\n",
    "        return 0. \"\"\"\n",
    "    start = 0  # start all the way at the left\n",
    "    while True:\n",
    "        start = a.find(b[:min_length], start)  # look for b's suffx in a\n",
    "        if start == -1:  # no more occurrences to right\n",
    "            return 0\n",
    "        # found occurrence; check for full suffix/prefix match\n",
    "        if b.startswith(a[start:]):\n",
    "            return len(a)-start\n",
    "        start += 1  # move just past previous match\n",
    "\n",
    "import itertools\n",
    "\n",
    "def scs(ss):\n",
    "    \"\"\" Returns shortest common superstring of given\n",
    "        strings, which must be the same length \"\"\"\n",
    "    shortest_sup = set()\n",
    "    shortest = 99999\n",
    "    for ssperm in itertools.permutations(ss):\n",
    "        sup = ssperm[0]  # superstring starts as first string\n",
    "        for i in range(len(ss)-1):\n",
    "            # overlap adjacent strings A and B in the permutation\n",
    "            olen = overlap(ssperm[i], ssperm[i+1], min_length=1)\n",
    "            # add non-overlapping portion of B to superstring\n",
    "            sup += ssperm[i+1][olen:]\n",
    "        if len(sup) < shortest:\n",
    "            shortest = len(sup)\n",
    "            shortest_sup = set([sup])  # found shorter superstring\n",
    "        elif len(sup) == shortest:\n",
    "            shortest_sup.add(sup)\n",
    "    return shortest_sup  # return shortest"
   ]
  },
  {
   "cell_type": "code",
   "execution_count": 230,
   "metadata": {
    "collapsed": false
   },
   "outputs": [
    {
     "data": {
      "text/plain": [
       "{'ABCAB', 'BCABC', 'CABCA'}"
      ]
     },
     "execution_count": 230,
     "metadata": {},
     "output_type": "execute_result"
    }
   ],
   "source": [
    "scs(['ABC', 'BCA', 'CAB'])"
   ]
  },
  {
   "cell_type": "code",
   "execution_count": 231,
   "metadata": {
    "collapsed": false
   },
   "outputs": [
    {
     "data": {
      "text/plain": [
       "{'CCTTGGATTGC', 'GATTGCCTTGG', 'TGCCTTGGATT', 'TGGATTGCCTT'}"
      ]
     },
     "execution_count": 231,
     "metadata": {},
     "output_type": "execute_result"
    }
   ],
   "source": [
    "scs(['CCT', 'CTT', 'TGC', 'TGG', 'GAT', 'ATT'])"
   ]
  },
  {
   "cell_type": "code",
   "execution_count": 232,
   "metadata": {
    "collapsed": true
   },
   "outputs": [],
   "source": [
    "def charToQual(c):\n",
    "    return ord(c) - 33\n",
    "\n",
    "def loadFastq(filename):\n",
    "    reads = []\n",
    "    quals = []\n",
    "    with open(filename) as f:\n",
    "        while True:\n",
    "            id_line = f.readline().rstrip()\n",
    "            if not id_line:\n",
    "                break\n",
    "            assert id_line.startswith('@')\n",
    "            reads.append(f.readline().rstrip())\n",
    "            assert f.readline().rstrip() == '+'\n",
    "            quals.append(map(charToQual, f.readline().rstrip()))\n",
    "            assert len(reads[-1]) == len(quals[-1])\n",
    "    return reads, quals"
   ]
  },
  {
   "cell_type": "code",
   "execution_count": 233,
   "metadata": {
    "collapsed": true
   },
   "outputs": [],
   "source": [
    "reads = loadFastq('ads1_week4_reads.fq')[0]"
   ]
  },
  {
   "cell_type": "code",
   "execution_count": 234,
   "metadata": {
    "collapsed": false
   },
   "outputs": [
    {
     "data": {
      "text/plain": [
       "1881"
      ]
     },
     "execution_count": 234,
     "metadata": {},
     "output_type": "execute_result"
    }
   ],
   "source": [
    "len(reads)"
   ]
  },
  {
   "cell_type": "code",
   "execution_count": 235,
   "metadata": {
    "collapsed": false
   },
   "outputs": [
    {
     "data": {
      "text/plain": [
       "100"
      ]
     },
     "execution_count": 235,
     "metadata": {},
     "output_type": "execute_result"
    }
   ],
   "source": [
    "len(reads[0])"
   ]
  },
  {
   "cell_type": "code",
   "execution_count": 236,
   "metadata": {
    "collapsed": false
   },
   "outputs": [
    {
     "data": {
      "text/plain": [
       "1881"
      ]
     },
     "execution_count": 236,
     "metadata": {},
     "output_type": "execute_result"
    }
   ],
   "source": [
    "len(reads)"
   ]
  },
  {
   "cell_type": "code",
   "execution_count": null,
   "metadata": {
    "collapsed": true
   },
   "outputs": [],
   "source": []
  },
  {
   "cell_type": "code",
   "execution_count": null,
   "metadata": {
    "collapsed": true
   },
   "outputs": [],
   "source": []
  },
  {
   "cell_type": "code",
   "execution_count": 243,
   "metadata": {
    "collapsed": false
   },
   "outputs": [],
   "source": [
    "from collections import defaultdict\n",
    "\n",
    "def buildKmerMap(reads, n):\n",
    "    m = defaultdict(set)\n",
    "    for read in reads:\n",
    "        for i in range(len(read) - n + 1):\n",
    "            kmer = read[i:i+n]\n",
    "            m[kmer].add(read)\n",
    "    return m\n",
    "\n",
    "def buildOverlapGraph(reads, n):\n",
    "    kmerMap = buildKmerMap(reads, n)\n",
    "    overlaps = defaultdict(list)\n",
    "    for read in reads:\n",
    "        suffix = read[-n:]\n",
    "        candidates = kmerMap[suffix]\n",
    "        for other_read in candidates:\n",
    "            if other_read == read:\n",
    "                continue\n",
    "            overlap_len = overlap(read, other_read, n)\n",
    "            if overlap_len > 0:\n",
    "                overlaps[read].append((overlap_len, other_read))\n",
    "    for read in overlaps.keys():\n",
    "        overlaps[read].sort()\n",
    "    return overlaps\n",
    "\n",
    "\n",
    "def assemble_greedy(reads, n=30):\n",
    "    # SLOW!!!\n",
    "    def max_overlap(reads, n):\n",
    "        ma=None; mb=None; molen=None;\n",
    "        for a,b in itertools.permutations(reads,2):\n",
    "            olen = overlap(a,b,n)\n",
    "            if olen > 0:\n",
    "                ma,mb,molen = a,b,olen\n",
    "        return ma,mb,molen\n",
    "\n",
    "    a,b,olen = max_overlap(reads, n)\n",
    "    while olen:\n",
    "        print len(reads)\n",
    "        reads.remove(a)\n",
    "        reads.remove(b)\n",
    "        reads.append(a + b[olen:])\n",
    "        a,b,olen = max_overlap(reads, n)\n",
    "\n",
    "    return ''.join(reads)\n",
    "\n",
    "def assemble_greedy_2(reads, n=30):\n",
    "    olg = buildOverlapGraph(reads, n)\n",
    "    reads = set(reads)\n",
    "    \n",
    "    # build a list of all overlaps, sorted by overlap length\n",
    "    overlaps = []\n",
    "    for (a,olaps) in olg.iteritems():\n",
    "        for (olen,b) in olaps:\n",
    "            overlaps.append((olen,a,b))\n",
    "    overlaps.sort()\n",
    "\n",
    "    def rebuild_overlaps(overlaps,a,b,c):\n",
    "        # rebuild the list of overlaps such that a and b have been \n",
    "        # used (ans so cannot be used again), and replaced with the \n",
    "        # single read that is the overlap of a and b.\n",
    "        def olps(overlaps):\n",
    "            for (o,p,q) in overlaps:\n",
    "                if p == a or q == b:\n",
    "                    continue\n",
    "                elif q == a:\n",
    "                    yield (o,p,c)\n",
    "                elif p == b:\n",
    "                    yield (o,c,q)\n",
    "                else:\n",
    "                    yield (o,p,q)\n",
    "        new_overlaps = list(olps(overlaps))\n",
    "        new_overlaps.sort()\n",
    "        return new_overlaps\n",
    "    \n",
    "    while overlaps:\n",
    "        olen,a,b = overlaps.pop()\n",
    "        merged = a + b[olen:]\n",
    "        overlaps = rebuild_overlaps(overlaps, a, b, merged)\n",
    "        reads.remove(a)\n",
    "        reads.remove(b)\n",
    "        reads.add(merged)\n",
    "        \n",
    "    return ''.join(reads)\n",
    "    \n",
    "        "
   ]
  },
  {
   "cell_type": "code",
   "execution_count": 244,
   "metadata": {
    "collapsed": false
   },
   "outputs": [
    {
     "name": "stdout",
     "output_type": "stream",
     "text": [
      "zabcde\n"
     ]
    }
   ],
   "source": [
    "print assemble_greedy_2(['abc', 'zab', 'cde'], 1)"
   ]
  },
  {
   "cell_type": "code",
   "execution_count": 245,
   "metadata": {
    "collapsed": false
   },
   "outputs": [
    {
     "name": "stdout",
     "output_type": "stream",
     "text": [
      "3.22479\n"
     ]
    }
   ],
   "source": [
    "import time\n",
    "start = time.clock()\n",
    "vg = assemble_greedy_2(reads, 30)\n",
    "print time.clock() - start"
   ]
  },
  {
   "cell_type": "code",
   "execution_count": 246,
   "metadata": {
    "collapsed": false
   },
   "outputs": [
    {
     "data": {
      "text/plain": [
       "15894"
      ]
     },
     "execution_count": 246,
     "metadata": {},
     "output_type": "execute_result"
    }
   ],
   "source": [
    "len(vg)"
   ]
  },
  {
   "cell_type": "code",
   "execution_count": 247,
   "metadata": {
    "collapsed": false
   },
   "outputs": [
    {
     "data": {
      "text/plain": [
       "4633"
      ]
     },
     "execution_count": 247,
     "metadata": {},
     "output_type": "execute_result"
    }
   ],
   "source": [
    "vg.count('A')"
   ]
  },
  {
   "cell_type": "code",
   "execution_count": 248,
   "metadata": {
    "collapsed": false
   },
   "outputs": [
    {
     "data": {
      "text/plain": [
       "3723"
      ]
     },
     "execution_count": 248,
     "metadata": {},
     "output_type": "execute_result"
    }
   ],
   "source": [
    "vg.count('T')"
   ]
  },
  {
   "cell_type": "code",
   "execution_count": null,
   "metadata": {
    "collapsed": true
   },
   "outputs": [],
   "source": []
  },
  {
   "cell_type": "code",
   "execution_count": null,
   "metadata": {
    "collapsed": true
   },
   "outputs": [],
   "source": []
  }
 ],
 "metadata": {
  "kernelspec": {
   "display_name": "Python 2",
   "language": "python",
   "name": "python2"
  },
  "language_info": {
   "codemirror_mode": {
    "name": "ipython",
    "version": 2
   },
   "file_extension": ".py",
   "mimetype": "text/x-python",
   "name": "python",
   "nbconvert_exporter": "python",
   "pygments_lexer": "ipython2",
   "version": "2.7.10"
  }
 },
 "nbformat": 4,
 "nbformat_minor": 0
}
