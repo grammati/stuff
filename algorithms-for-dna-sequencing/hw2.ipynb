{
 "cells": [
  {
   "cell_type": "code",
   "execution_count": null,
   "metadata": {},
   "outputs": [],
   "source": [
    "import bm_preproc"
   ]
  },
  {
   "cell_type": "code",
   "execution_count": null,
   "metadata": {},
   "outputs": [],
   "source": [
    "genome = ''.join(line.strip() for line in open('chr1.GRCh38.excerpt.fasta') if not line.startswith('>'))\n",
    "q1Frag = 'GGCGCGGTGGCTCACGCCTGTAATCCCAGCACTTTGGGAGGCCGAGG'"
   ]
  },
  {
   "cell_type": "code",
   "execution_count": null,
   "metadata": {},
   "outputs": [],
   "source": [
    "def naiveMatches(genome, fragment):\n",
    "    matches = []\n",
    "    alignments = 0\n",
    "    comps = 0\n",
    "    for i in range(len(genome) - len(fragment) + 1):\n",
    "        alignments += 1\n",
    "        is_match = True\n",
    "        for j in range(len(fragment)):\n",
    "            is_match = genome[i+j] == fragment[j]\n",
    "            comps += 1\n",
    "            if not is_match:\n",
    "                break\n",
    "        if is_match:\n",
    "            matches.append(i)\n",
    "    return matches, alignments, comps\n"
   ]
  },
  {
   "cell_type": "code",
   "execution_count": null,
   "metadata": {},
   "outputs": [],
   "source": [
    "# Question 1\n",
    "len(genome) - len(q1Frag) + 1"
   ]
  },
  {
   "cell_type": "code",
   "execution_count": null,
   "metadata": {},
   "outputs": [],
   "source": [
    "# Question 2\n",
    "naiveMatches(genome, q1Frag)"
   ]
  },
  {
   "cell_type": "code",
   "execution_count": null,
   "metadata": {},
   "outputs": [],
   "source": [
    "def bmMatches(t, p, alpha='ACGT'):\n",
    "    bm = bm_preproc.BoyerMoore(p, alpha)\n",
    "    matches = []\n",
    "    alignments = 0\n",
    "    comps = 0\n",
    "    i = 0\n",
    "    while i < len(t) - len(p) + 1:\n",
    "        shift = 1\n",
    "        is_match = True\n",
    "        alignments += 1\n",
    "        j = len(p) - 1\n",
    "        while j >= 0:\n",
    "            comps += 1\n",
    "            if t[i+j] != p[j]:\n",
    "                is_match = False\n",
    "                shift = max(1, bm.bad_character_rule(j, t[i+j]), bm.good_suffix_rule(j))\n",
    "                break\n",
    "            j -= 1\n",
    "        if is_match:\n",
    "            matches.append(i)\n",
    "            shift = max(1, bm.match_skip())\n",
    "        i += shift\n",
    "    return matches, alignments, comps\n"
   ]
  },
  {
   "cell_type": "code",
   "execution_count": null,
   "metadata": {},
   "outputs": [],
   "source": [
    "naiveMatches('there would have been a time for such a word', 'word')"
   ]
  },
  {
   "cell_type": "code",
   "execution_count": null,
   "metadata": {},
   "outputs": [],
   "source": [
    "bmMatches('there would have been a time for such a word', 'word', 'abcdefghijklmnopqrstuvwxyz ')"
   ]
  },
  {
   "cell_type": "code",
   "execution_count": null,
   "metadata": {},
   "outputs": [],
   "source": [
    "bmMatches('needle need noodle needle', 'needle', 'abcdefghijklmnopqrstuvwxyz ')"
   ]
  },
  {
   "cell_type": "code",
   "execution_count": null,
   "metadata": {},
   "outputs": [],
   "source": [
    "bmMatches(genome, q1Frag)"
   ]
  },
  {
   "cell_type": "code",
   "execution_count": null,
   "metadata": {},
   "outputs": [],
   "source": [
    "import kmer_index"
   ]
  },
  {
   "cell_type": "code",
   "execution_count": null,
   "metadata": {},
   "outputs": [],
   "source": [
    "idx = kmer_index.Index(genome, 8)"
   ]
  },
  {
   "cell_type": "code",
   "execution_count": null,
   "metadata": {},
   "outputs": [],
   "source": [
    "list(enumerate('abc'))"
   ]
  },
  {
   "cell_type": "code",
   "execution_count": null,
   "metadata": {},
   "outputs": [],
   "source": [
    "def countMismatches(p,t):\n",
    "    mm = 0\n",
    "    for i,c in enumerate(p):\n",
    "        if c != t[i]:\n",
    "            mm += 1\n",
    "    return mm\n",
    "\n",
    "def kmerIndexMatches(t, p):\n",
    "    assert len(p) == 24\n",
    "    idx = kmer_index.Index(t, 8)\n",
    "    matches = set()\n",
    "    indexHits = set()\n",
    "    for pIdx in [0,8,16]:\n",
    "        kmer = p[pIdx : pIdx + 8]\n",
    "        locs = idx.query(kmer)\n",
    "        indexHits.update(locs)\n",
    "        for loc in locs:\n",
    "            if loc - pIdx < 0 or loc + (24 - pIdx) >= len(t):\n",
    "                continue\n",
    "            leftMismatches = countMismatches(p[:pIdx], t[loc-pIdx:loc])\n",
    "            rightMismatches = countMismatches(p[pIdx+8:], t[loc+8:loc+24-pIdx])\n",
    "            if leftMismatches + rightMismatches <= 2:\n",
    "                matches.add(loc-pIdx)\n",
    "    return sorted(matches), len(indexHits)\n"
   ]
  },
  {
   "cell_type": "code",
   "execution_count": null,
   "metadata": {},
   "outputs": [],
   "source": [
    "def isMatchAt(genome, fragment, offset, maxMismatches = 0):\n",
    "    misMatches = []\n",
    "    for i in range(len(fragment)):\n",
    "        if genome[offset + i] != fragment[i]:\n",
    "            misMatches.append(i)\n",
    "            if len(misMatches) > maxMismatches:\n",
    "                break\n",
    "    return len(misMatches) <= maxMismatches\n",
    "\n",
    "def getMatches(genome, fragment, maxMismatches):\n",
    "    matches = []\n",
    "    for i in range(len(genome) - len(fragment) + 1):\n",
    "        if isMatchAt(genome, fragment, i, maxMismatches):\n",
    "            matches.append(i)\n",
    "    return matches"
   ]
  },
  {
   "cell_type": "code",
   "execution_count": null,
   "metadata": {},
   "outputs": [],
   "source": [
    "frag = 'GGCGCGGTGGCTCACGCCTGTAAT'\n",
    "getMatches(genome, frag, 2) == sorted(kmerIndexMatches(genome, frag)[0])"
   ]
  },
  {
   "cell_type": "code",
   "execution_count": null,
   "metadata": {},
   "outputs": [],
   "source": [
    "len(kmerIndexMatches(genome, frag)[0])"
   ]
  },
  {
   "cell_type": "code",
   "execution_count": null,
   "metadata": {},
   "outputs": [],
   "source": [
    "kmerIndexMatches(genome, frag)[1]"
   ]
  },
  {
   "cell_type": "code",
   "execution_count": null,
   "metadata": {},
   "outputs": [],
   "source": [
    "import bisect\n",
    "   \n",
    "class SubseqIndex(object):\n",
    "    \"\"\" Holds a subsequence index for a text T \"\"\"\n",
    "    \n",
    "    def __init__(self, t, k, ival):\n",
    "        \"\"\" Create index from all subsequences consisting of k characters\n",
    "            spaced ival positions apart.  E.g., SubseqIndex(\"ATAT\", 2, 2)\n",
    "            extracts (\"AA\", 0) and (\"TT\", 1). \"\"\"\n",
    "        self.k = k  # num characters per subsequence extracted\n",
    "        self.ival = ival  # space between them; 1=adjacent, 2=every other, etc\n",
    "        self.index = []\n",
    "        self.span = 1 + ival * (k - 1)\n",
    "        for i in range(len(t) - self.span + 1):  # for each subseq\n",
    "            self.index.append((t[i:i+self.span:ival], i))  # add (subseq, offset)\n",
    "        self.index.sort()  # alphabetize by subseq\n",
    "    \n",
    "    def query(self, p):\n",
    "        \"\"\" Return index hits for first subseq of p \"\"\"\n",
    "        subseq = p[:self.span:self.ival]  # query with first subseq\n",
    "        i = bisect.bisect_left(self.index, (subseq, -1))  # binary search\n",
    "        hits = []\n",
    "        while i < len(self.index):  # collect matching index entries\n",
    "            if self.index[i][0] != subseq:\n",
    "                break\n",
    "            hits.append(self.index[i][1])\n",
    "            i += 1\n",
    "        return hits\n",
    "\n",
    "def kmerSubseqIndexMatches(t, p):\n",
    "    assert len(p) == 24\n",
    "    idx = SubseqIndex(t, 8, 3)\n",
    "    matches = set()\n",
    "    indexHits = set()\n",
    "    for pIdx in [0,1,2]:\n",
    "        kmer = p[pIdx:]\n",
    "        locs = idx.query(kmer)\n",
    "        indexHits.update(locs)\n",
    "        for loc in locs:\n",
    "            if loc - pIdx < 0 or loc + (24 - pIdx) >= len(t):\n",
    "                continue\n",
    "            mismatches = countMismatches(p, t[loc-pIdx:loc-pIdx+24])\n",
    "            if mismatches <= 2:\n",
    "                matches.add(loc-pIdx)\n",
    "    return sorted(matches), len(indexHits)\n"
   ]
  },
  {
   "cell_type": "code",
   "execution_count": null,
   "metadata": {},
   "outputs": [],
   "source": [
    "kmerSubseqIndexMatches(genome, frag)"
   ]
  },
  {
   "cell_type": "code",
   "execution_count": null,
   "metadata": {},
   "outputs": [],
   "source": []
  }
 ],
 "metadata": {
  "kernelspec": {
   "display_name": "Python 2",
   "language": "python",
   "name": "python2"
  },
  "language_info": {
   "codemirror_mode": {
    "name": "ipython",
    "version": 2
   },
   "file_extension": ".py",
   "mimetype": "text/x-python",
   "name": "python",
   "nbconvert_exporter": "python",
   "pygments_lexer": "ipython2",
   "version": "2.7.11"
  }
 },
 "nbformat": 4,
 "nbformat_minor": 0
}
