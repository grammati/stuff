{
 "cells": [
  {
   "cell_type": "code",
   "execution_count": 5,
   "metadata": {
    "collapsed": true
   },
   "outputs": [],
   "source": [
    "genome = ''.join(line.strip() for line in open('chr1.GRCh38.excerpt.fasta') if not line.startswith('>'))"
   ]
  },
  {
   "cell_type": "code",
   "execution_count": 13,
   "metadata": {
    "collapsed": true
   },
   "outputs": [],
   "source": [
    "def editDistance(P, T):\n",
    "    # Width / Height of matrix\n",
    "    W = len(T) + 1\n",
    "    H = len(P) + 1\n",
    "    \n",
    "    # Create distance matrix\n",
    "    D = []\n",
    "    for i in range(H):\n",
    "        D.append([0]*W)\n",
    "        \n",
    "    # Initialize first column\n",
    "    for y in range(H):\n",
    "        D[y][0] = y\n",
    "        \n",
    "    # Initialize first row\n",
    "    for x in range(W):\n",
    "        D[0][x] = 0\n",
    "        \n",
    "    # Fill in the rest of the matrix\n",
    "    for y in range(1, H):\n",
    "        for x in range(1, W):\n",
    "            distHor = D[y][x-1] + 1\n",
    "            distVer = D[y-1][x] + 1\n",
    "            if P[y-1] == T[x-1]:\n",
    "                distDiag = D[y-1][x-1]\n",
    "            else:\n",
    "                distDiag = D[y-1][x-1] + 1\n",
    "            D[y][x] = min(distHor, distVer, distDiag)\n",
    "            \n",
    "    # Edit distance is the value in the bottom right corner of the matrix\n",
    "    return min(D[-1])"
   ]
  },
  {
   "cell_type": "code",
   "execution_count": 14,
   "metadata": {
    "collapsed": false
   },
   "outputs": [
    {
     "name": "stdout",
     "output_type": "stream",
     "text": [
      "2\n"
     ]
    }
   ],
   "source": [
    "P = 'GCGTATGC'\n",
    "T = 'TATTGGCTATACGGTT'\n",
    "print editDistance(P,T)"
   ]
  },
  {
   "cell_type": "code",
   "execution_count": 16,
   "metadata": {
    "collapsed": false
   },
   "outputs": [
    {
     "name": "stdout",
     "output_type": "stream",
     "text": [
      "3\n"
     ]
    }
   ],
   "source": [
    "# Question 1\n",
    "print editDistance('GCTGATCGATCGTACG', genome)"
   ]
  },
  {
   "cell_type": "code",
   "execution_count": 17,
   "metadata": {
    "collapsed": false
   },
   "outputs": [
    {
     "name": "stdout",
     "output_type": "stream",
     "text": [
      "2\n"
     ]
    }
   ],
   "source": [
    "# Question 2\n",
    "print editDistance('GATTTACCAGATTGAG', genome)"
   ]
  },
  {
   "cell_type": "code",
   "execution_count": 18,
   "metadata": {
    "collapsed": true
   },
   "outputs": [],
   "source": [
    "def overlap(a, b, min_length=3):\n",
    "    \"\"\" Return length of longest suffix of 'a' matching\n",
    "        a prefix of 'b' that is at least 'min_length'\n",
    "        characters long.  If no such overlap exists,\n",
    "        return 0. \"\"\"\n",
    "    start = 0  # start all the way at the left\n",
    "    while True:\n",
    "        start = a.find(b[:min_length], start)  # look for b's prefix in a\n",
    "        if start == -1:  # no more occurrences to right\n",
    "            return 0\n",
    "        # found occurrence; check for full suffix/prefix match\n",
    "        if b.startswith(a[start:]):\n",
    "            return len(a)-start\n",
    "        start += 1  # move just past previous match"
   ]
  },
  {
   "cell_type": "code",
   "execution_count": 21,
   "metadata": {
    "collapsed": true
   },
   "outputs": [],
   "source": [
    "def charToQual(c):\n",
    "    return ord(c) - 33\n",
    "\n",
    "def loadFastq(filename):\n",
    "    reads = []\n",
    "    quals = []\n",
    "    with open(filename) as f:\n",
    "        while True:\n",
    "            id_line = f.readline().rstrip()\n",
    "            if not id_line:\n",
    "                break\n",
    "            assert id_line.startswith('@')\n",
    "            reads.append(f.readline().rstrip())\n",
    "            assert f.readline().rstrip() == '+'\n",
    "            quals.append(map(charToQual, f.readline().rstrip()))\n",
    "            assert len(reads[-1]) == len(quals[-1])\n",
    "    return reads, quals"
   ]
  },
  {
   "cell_type": "code",
   "execution_count": 22,
   "metadata": {
    "collapsed": false
   },
   "outputs": [],
   "source": [
    "reads = loadFastq('ERR266411_1.for_asm.fastq')[0]"
   ]
  },
  {
   "cell_type": "code",
   "execution_count": 31,
   "metadata": {
    "collapsed": true
   },
   "outputs": [],
   "source": [
    "from collections import defaultdict\n",
    "\n",
    "def buildKmerMap(reads, n):\n",
    "    m = defaultdict(set)\n",
    "    for read in reads:\n",
    "        for i in range(len(read) - n + 1):\n",
    "            kmer = read[i:i+n]\n",
    "            m[kmer].add(read)\n",
    "    return m"
   ]
  },
  {
   "cell_type": "code",
   "execution_count": 32,
   "metadata": {
    "collapsed": false
   },
   "outputs": [],
   "source": [
    "m = buildKmerMap(reads, 30)"
   ]
  },
  {
   "cell_type": "code",
   "execution_count": 33,
   "metadata": {
    "collapsed": false
   },
   "outputs": [
    {
     "data": {
      "text/plain": [
       "108344"
      ]
     },
     "execution_count": 33,
     "metadata": {},
     "output_type": "execute_result"
    }
   ],
   "source": [
    "len(m)"
   ]
  },
  {
   "cell_type": "code",
   "execution_count": 39,
   "metadata": {
    "collapsed": true
   },
   "outputs": [],
   "source": [
    "def buildOverlapGraph(reads, n):\n",
    "    kmerMap = buildKmerMap(reads, n)\n",
    "    overlaps = defaultdict(set)\n",
    "    for read in reads:\n",
    "        suffix = read[-n:]\n",
    "        candidates = kmerMap[suffix]\n",
    "        for other_read in candidates:\n",
    "            if other_read is read:\n",
    "                continue\n",
    "            overlap_len = overlap(read, other_read, n)\n",
    "            if overlap_len > 0:\n",
    "                overlaps[read].add((other_read, overlap_len))\n",
    "    return overlaps"
   ]
  },
  {
   "cell_type": "code",
   "execution_count": 40,
   "metadata": {
    "collapsed": false
   },
   "outputs": [
    {
     "data": {
      "text/plain": [
       "defaultdict(set,\n",
       "            {'ABCDEFG': {('EFGHIJ', 3)},\n",
       "             'EFGHIJ': {('HIJABC', 3)},\n",
       "             'HIJABC': {('ABCDEFG', 3)}})"
      ]
     },
     "execution_count": 40,
     "metadata": {},
     "output_type": "execute_result"
    }
   ],
   "source": [
    "# Check: http://nbviewer.ipython.org/github/BenLangmead/ads1-hw-examples/blob/master/hw3_overlap_all.ipynb\n",
    "buildOverlapGraph(['ABCDEFG', 'EFGHIJ', 'HIJABC'], 3)"
   ]
  },
  {
   "cell_type": "code",
   "execution_count": 41,
   "metadata": {
    "collapsed": false
   },
   "outputs": [
    {
     "data": {
      "text/plain": [
       "defaultdict(set, {})"
      ]
     },
     "execution_count": 41,
     "metadata": {},
     "output_type": "execute_result"
    }
   ],
   "source": [
    "buildOverlapGraph(['ABCDEFG', 'EFGHIJ', 'HIJABC'], 4)"
   ]
  },
  {
   "cell_type": "code",
   "execution_count": 42,
   "metadata": {
    "collapsed": false
   },
   "outputs": [
    {
     "data": {
      "text/plain": [
       "defaultdict(set,\n",
       "            {'ACGTAC': {('CGTACG', 5), ('GTACGA', 4), ('GTACGT', 4)},\n",
       "             'CGTACG': {('GTACGA', 5),\n",
       "              ('GTACGT', 5),\n",
       "              ('TACGAT', 4),\n",
       "              ('TACGTA', 4)},\n",
       "             'GTACGA': {('TACGAT', 5)},\n",
       "             'GTACGT': {('ACGTAC', 4), ('TACGTA', 5)},\n",
       "             'TACGTA': {('ACGTAC', 5), ('CGTACG', 4)}})"
      ]
     },
     "execution_count": 42,
     "metadata": {},
     "output_type": "execute_result"
    }
   ],
   "source": [
    "buildOverlapGraph(['CGTACG', 'TACGTA', 'GTACGT', 'ACGTAC', 'GTACGA', 'TACGAT'], 4)"
   ]
  },
  {
   "cell_type": "code",
   "execution_count": 43,
   "metadata": {
    "collapsed": true
   },
   "outputs": [],
   "source": [
    "# Question 3\n",
    "g = buildOverlapGraph(reads, 30)"
   ]
  },
  {
   "cell_type": "code",
   "execution_count": 46,
   "metadata": {
    "collapsed": false
   },
   "outputs": [
    {
     "data": {
      "text/plain": [
       "904746"
      ]
     },
     "execution_count": 46,
     "metadata": {},
     "output_type": "execute_result"
    }
   ],
   "source": [
    "sum(len(v) for (k,v) in g.iteritems())"
   ]
  },
  {
   "cell_type": "code",
   "execution_count": 47,
   "metadata": {
    "collapsed": false
   },
   "outputs": [
    {
     "data": {
      "text/plain": [
       "7161"
      ]
     },
     "execution_count": 47,
     "metadata": {},
     "output_type": "execute_result"
    }
   ],
   "source": [
    "len(g)"
   ]
  },
  {
   "cell_type": "code",
   "execution_count": null,
   "metadata": {
    "collapsed": true
   },
   "outputs": [],
   "source": []
  }
 ],
 "metadata": {
  "kernelspec": {
   "display_name": "Python 2",
   "language": "python",
   "name": "python2"
  },
  "language_info": {
   "codemirror_mode": {
    "name": "ipython",
    "version": 2
   },
   "file_extension": ".py",
   "mimetype": "text/x-python",
   "name": "python",
   "nbconvert_exporter": "python",
   "pygments_lexer": "ipython2",
   "version": "2.7.10"
  }
 },
 "nbformat": 4,
 "nbformat_minor": 0
}
