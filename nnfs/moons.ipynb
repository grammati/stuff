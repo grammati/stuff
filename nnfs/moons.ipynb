{
 "cells": [
  {
   "cell_type": "code",
   "execution_count": null,
   "metadata": {
    "autoscroll": false,
    "ein.hycell": false,
    "ein.tags": "worksheet-0",
    "slideshow": {
     "slide_type": "-"
    }
   },
   "outputs": [],
   "source": [
    "import numpy as np\n",
    "from matplotlib import pyplot as plt\n",
    "import seaborn as sns\n",
    "from nnfs import moons"
   ]
  },
  {
   "cell_type": "code",
   "execution_count": null,
   "metadata": {
    "autoscroll": false,
    "ein.hycell": false,
    "ein.tags": "worksheet-0",
    "slideshow": {
     "slide_type": "-"
    }
   },
   "outputs": [],
   "source": [
    "X,Y = moons()\n",
    "sns.scatterplot(X[:,0], X[:,1], hue=Y)"
   ]
  },
  {
   "cell_type": "code",
   "execution_count": null,
   "metadata": {
    "autoscroll": false,
    "ein.hycell": false,
    "ein.tags": "worksheet-0",
    "slideshow": {
     "slide_type": "-"
    }
   },
   "outputs": [],
   "source": [
    "def sigmoid(a):\n",
    "    return 1.0 / (1.0 + np.exp(-a))"
   ]
  },
  {
   "cell_type": "code",
   "execution_count": null,
   "metadata": {
    "autoscroll": false,
    "ein.hycell": false,
    "ein.tags": "worksheet-0",
    "slideshow": {
     "slide_type": "-"
    }
   },
   "outputs": [],
   "source": [
    "def plotfn(f, lo=-5, hi=5):\n",
    "    pts = np.linspace(lo, hi, num=100)\n",
    "    sns.lineplot(x=pts, y=list(map(f, pts)))"
   ]
  },
  {
   "cell_type": "code",
   "execution_count": null,
   "metadata": {
    "autoscroll": false,
    "ein.hycell": false,
    "ein.tags": "worksheet-0",
    "slideshow": {
     "slide_type": "-"
    }
   },
   "outputs": [],
   "source": [
    "plotfn(sigmoid)"
   ]
  },
  {
   "cell_type": "code",
   "execution_count": null,
   "metadata": {
    "autoscroll": false,
    "ein.hycell": false,
    "ein.tags": "worksheet-0",
    "slideshow": {
     "slide_type": "-"
    }
   },
   "outputs": [],
   "source": [
    "class Layer(object):\n",
    "    def loss(self):\n",
    "        return 0\n",
    "    \n",
    "class FC(Layer):\n",
    "    \"Fully connected layer\"\n",
    "    def __init__(self, d_in, d_out):\n",
    "        self.d_in = d_in\n",
    "        self.d_out = d_out\n",
    "        self.W = np.random.randn(d_in, d_out) / 100\n",
    "        self.b = np.zeros(d_out)\n",
    "        \n",
    "    def forward(self, x):\n",
    "        # x @ W + b\n",
    "        self.dW = x.T\n",
    "        return (x @ self.W) + self.b\n",
    "    \n",
    "    def backward(self, grad_in):\n",
    "        dW = self.dW @ grad_in\n",
    "        dW += 0.001 * self.W\n",
    "        db = grad_in.sum(axis=0)\n",
    "        db += 0.001 * self.b\n",
    "        self.W -= 0.1 * dW\n",
    "        self.b -= 0.1 * db\n",
    "        return grad_in @ self.W.T\n",
    "    \n",
    "    def loss(self):\n",
    "        return 0.005 * (self.W * self.W).sum()\n",
    "    \n",
    "class Relu(Layer):\n",
    "    def forward(self, x):\n",
    "        self.grads = x >= 0\n",
    "        return x * self.grads\n",
    "    def backward(self, grad_in):\n",
    "        return grad_in * self.grads\n",
    "    \n",
    "class Softmax(Layer):\n",
    "    def forward(self, x):\n",
    "        x = x - np.max(x, axis=-1, keepdims=True)\n",
    "        exps = np.exp(x)\n",
    "        probs = exps / exps.sum(axis=-1, keepdims=True)\n",
    "        self.probs = probs\n",
    "        return probs\n",
    "    def backward(self, grad_in):\n",
    "        return grad_in\n",
    "\n",
    "class NN:\n",
    "    def __init__(self, *layers):\n",
    "        self.layers = layers\n",
    "    \n",
    "    def train(self, X, Y):\n",
    "        n_examples = len(X)\n",
    "        \n",
    "        v = X\n",
    "        for layer in self.layers:\n",
    "            v = layer.forward(v)\n",
    "        \n",
    "        probs = v\n",
    "        cel = -np.log(probs[np.arange(n_examples), Y])\n",
    "        L = cel.sum() / n_examples\n",
    "        \n",
    "        z = np.zeros_like(probs)\n",
    "        z[np.arange(n_examples), Y] += 1\n",
    "        grad = (probs - z) / n_examples\n",
    "        for layer in reversed(self.layers):\n",
    "            grad = layer.backward(grad)\n",
    "\n",
    "        return L\n",
    "        \n",
    "    def predict(self, x):\n",
    "        v = x\n",
    "        for layer in self.layers:\n",
    "            v = layer.forward(v)\n",
    "        return np.argmax(v, axis=-1)"
   ]
  },
  {
   "cell_type": "code",
   "execution_count": null,
   "metadata": {
    "autoscroll": false,
    "ein.hycell": false,
    "ein.tags": "worksheet-0",
    "slideshow": {
     "slide_type": "-"
    }
   },
   "outputs": [],
   "source": [
    "nn = NN(\n",
    "    FC(2,20),\n",
    "    Relu(),\n",
    "    FC(20,20),\n",
    "    Relu(),\n",
    "    FC(20,2),\n",
    "    Softmax())"
   ]
  },
  {
   "cell_type": "code",
   "execution_count": null,
   "metadata": {
    "autoscroll": false,
    "ein.hycell": false,
    "ein.tags": "worksheet-0",
    "slideshow": {
     "slide_type": "-"
    }
   },
   "outputs": [],
   "source": [
    "X,Y = ds.make_moons(n_samples=100, shuffle=True, noise=0.2)\n",
    "nn.predict(X)"
   ]
  },
  {
   "cell_type": "code",
   "execution_count": null,
   "metadata": {
    "autoscroll": false,
    "ein.hycell": false,
    "ein.tags": "worksheet-0",
    "slideshow": {
     "slide_type": "-"
    }
   },
   "outputs": [],
   "source": [
    "losses = []"
   ]
  },
  {
   "cell_type": "code",
   "execution_count": null,
   "metadata": {
    "autoscroll": false,
    "ein.hycell": false,
    "ein.tags": "worksheet-0",
    "slideshow": {
     "slide_type": "-"
    }
   },
   "outputs": [],
   "source": [
    "for i in range(300):\n",
    "    for _ in range(100):\n",
    "        losses.append(nn.train(X,Y))"
   ]
  },
  {
   "cell_type": "code",
   "execution_count": null,
   "metadata": {
    "autoscroll": false,
    "ein.hycell": false,
    "ein.tags": "worksheet-0",
    "slideshow": {
     "slide_type": "-"
    }
   },
   "outputs": [],
   "source": [
    "plt.plot(losses)"
   ]
  },
  {
   "cell_type": "code",
   "execution_count": null,
   "metadata": {
    "autoscroll": false,
    "ein.hycell": false,
    "ein.tags": "worksheet-0",
    "slideshow": {
     "slide_type": "-"
    }
   },
   "outputs": [],
   "source": [
    "xrange=np.linspace(-1.5, 2.5, 100)\n",
    "yrange=np.linspace(-1.5, 1.5, 100)\n",
    "pts = np.array([[x,y] for x in xrange for y in yrange])\n",
    "print(pts.shape)\n",
    "C = nn.predict(pts)\n",
    "print(C.shape)\n",
    "plt.figure(figsize=(10,6))\n",
    "sns.scatterplot(pts[:,0], pts[:,1], hue=C, palette='Accent')\n",
    "sns.scatterplot(X[:,0], X[:,1], hue=Y)"
   ]
  }
 ],
 "metadata": {
  "kernelspec": {
   "display_name": "Python 3",
   "language": "python",
   "name": "python3"
  },
  "language_info": {
   "codemirror_mode": {
    "name": "ipython",
    "version": 3
   },
   "file_extension": ".py",
   "mimetype": "text/x-python",
   "name": "python",
   "nbconvert_exporter": "python",
   "pygments_lexer": "ipython3",
   "version": "3.7.0"
  },
  "name": "foo.ipynb"
 },
 "nbformat": 4,
 "nbformat_minor": 2
}
