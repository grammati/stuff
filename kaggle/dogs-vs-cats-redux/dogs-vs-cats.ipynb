{
 "cells": [
  {
   "cell_type": "markdown",
   "metadata": {},
   "source": [
    "# Cats vs. Dogs Redux"
   ]
  },
  {
   "cell_type": "markdown",
   "metadata": {},
   "source": [
    "## Setup, imports, etc."
   ]
  },
  {
   "cell_type": "code",
   "execution_count": null,
   "metadata": {},
   "outputs": [],
   "source": [
    "%matplotlib inline\n",
    "\n",
    "import numpy as np\n",
    "import os\n",
    "import scipy\n",
    "import scipy.misc\n",
    "import matplotlib.pyplot as plt\n",
    "import random\n"
   ]
  },
  {
   "cell_type": "code",
   "execution_count": null,
   "metadata": {},
   "outputs": [],
   "source": [
    "DATA_DIR = os.path.expanduser('~/.datasets/kaggle/dogs-vs-cats-redux')\n",
    "RAW_DIR = DATA_DIR + '/raw'\n",
    "TRAIN_DIR = DATA_DIR + '/train'\n",
    "TEST_DIR = DATA_DIR + '/test'\n",
    "VAL_DIR = DATA_DIR + '/validation'"
   ]
  },
  {
   "cell_type": "markdown",
   "metadata": {},
   "source": [
    "## Prepare data\n",
    "\n",
    "* Move the raw images (extracted from the zip files) into \"/raw\", then copy and resize all of them to 224x224 back into \"train\" and \"test\" dirs.\n",
    "* Make a validation set. I'm not sure how many images to put in the validation set, but I'm going to guess that 10% to 20% of the training data is reasonable."
   ]
  },
  {
   "cell_type": "code",
   "execution_count": null,
   "metadata": {},
   "outputs": [],
   "source": [
    "def mkdirs(*dirs):\n",
    "    for d in dirs:\n",
    "        if not os.path.exists(d):\n",
    "            os.makedirs(d)\n",
    "\n",
    "def resize(force=False):\n",
    "    if force or not os.path.exists(RAW_DIR):\n",
    "        raw_train = RAW_DIR + '/train'\n",
    "        raw_test = RAW_DIR + '/test'\n",
    "        #mkdirs(RAW_DIR)\n",
    "        #os.rename(TRAIN_DIR, raw_train)\n",
    "        #os.rename(TEST_DIR, raw_test)\n",
    "        # re-create \"train\" and \"test\"\n",
    "        mkdirs(TRAIN_DIR)\n",
    "        mkdirs(TEST_DIR)\n",
    "        # Copy in resized images from the raw dirs\n",
    "        for indir,outdir in [[raw_train, TRAIN_DIR], [raw_test, TEST_DIR]]:\n",
    "            for n,f in enumerate(os.listdir(indir)):\n",
    "                im = scipy.misc.imread(indir + '/' + f)\n",
    "                resized = scipy.misc.imresize(im, (224,224))\n",
    "                scipy.misc.imsave(outdir + '/' + f, resized)\n",
    "                if n % 100 == 0:\n",
    "                    print \"...\"\n",
    "\n",
    "def make_validation_set():\n",
    "    if not os.path.exists(VAL_DIR):\n",
    "        os.makedirs(VAL_DIR)\n",
    "    for f in os.listdir(TRAIN_DIR):\n",
    "        #print f\n",
    "        if f.split('.')[1].endswith('7'):\n",
    "            os.rename(train_dir + '/' + f, VAL_DIR + '/' + f)\n",
    "    print 'Train:', len(os.listdir(TRAIN_DIR))\n",
    "    print 'Val:', len(os.listdir(VAL_DIR))\n",
    "\n",
    "#resize(1)\n",
    "#make_validation_set()"
   ]
  },
  {
   "cell_type": "code",
   "execution_count": null,
   "metadata": {},
   "outputs": [],
   "source": [
    "def get_im(fname):\n",
    "    return scipy.misc.imread(TRAIN_DIR + '/' + im) / 255.0\n",
    "\n",
    "def get_batch(n):\n",
    "    return [(get_im(im), 'dog' in im, im) \n",
    "            for im in random.sample(os.listdir(TRAIN_DIR), n)]"
   ]
  },
  {
   "cell_type": "code",
   "execution_count": null,
   "metadata": {},
   "outputs": [],
   "source": [
    "class NN(object):\n",
    "    def __init__(self, lr=0.01, input_size=(224*224*3)):\n",
    "        self.lr = lr\n",
    "        self.N = N = input_size\n",
    "        #self.batch_size=8\n",
    "        \n",
    "        # Fully connected layer 1\n",
    "        self.W1 = np.random.random((N,N))\n",
    "        self.b1 = np.random.random((N,))\n",
    "        \n",
    "        # Fully connected layer 2\n",
    "        self.W2 = np.random.random((N,N))\n",
    "        self.b2 = np.random.random((N,))\n",
    "        \n",
    "    def train():\n",
    "        im,y,fname = get_batch(1)[0]\n",
    "        im = im.flatten()          # N,\n",
    "        x = np.dot(self.W1, im)    # N,\n",
    "        print x.shape\n",
    "        \n",
    "nn = NN()\n",
    "nn.train()\n",
    "        "
   ]
  },
  {
   "cell_type": "code",
   "execution_count": null,
   "metadata": {},
   "outputs": [],
   "source": [
    "(224*224*3)**2"
   ]
  },
  {
   "cell_type": "code",
   "execution_count": null,
   "metadata": {},
   "outputs": [],
   "source": []
  }
 ],
 "metadata": {
  "kernelspec": {
   "display_name": "Python 2",
   "language": "python",
   "name": "python2"
  },
  "language_info": {
   "codemirror_mode": {
    "name": "ipython",
    "version": 2
   },
   "file_extension": ".py",
   "mimetype": "text/x-python",
   "name": "python",
   "nbconvert_exporter": "python",
   "pygments_lexer": "ipython2",
   "version": "2.7.11"
  }
 },
 "nbformat": 4,
 "nbformat_minor": 0
}
